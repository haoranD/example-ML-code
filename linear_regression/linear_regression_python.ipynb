{
 "cells": [
  {
   "cell_type": "code",
   "execution_count": 1,
   "metadata": {
    "collapsed": true
   },
   "outputs": [],
   "source": [
    "import numpy as np\n",
    "import matplotlib.pyplot as plt\n",
    "%matplotlib inline"
   ]
  },
  {
   "cell_type": "code",
   "execution_count": 2,
   "metadata": {
    "collapsed": true
   },
   "outputs": [],
   "source": [
    "# to create dataset\n",
    "m = 30\n",
    "theta0_true = 2\n",
    "theta1_true = 0.5\n",
    "X = np.linspace(-1,1,m)\n",
    "\n",
    "rand_noise_mu = 0\n",
    "rand_noise_std = 0.1\n",
    "\n",
    "rand_noise = np.random.normal(rand_noise_mu, rand_noise_std, m)\n",
    "Y = theta0_true + theta1_true * X + rand_noise"
   ]
  },
  {
   "cell_type": "code",
   "execution_count": 3,
   "metadata": {},
   "outputs": [
    {
     "name": "stdout",
     "output_type": "stream",
     "text": [
      "('X', array([-1.        , -0.93103448, -0.86206897, -0.79310345, -0.72413793,\n",
      "       -0.65517241, -0.5862069 , -0.51724138, -0.44827586, -0.37931034,\n",
      "       -0.31034483, -0.24137931, -0.17241379, -0.10344828, -0.03448276,\n",
      "        0.03448276,  0.10344828,  0.17241379,  0.24137931,  0.31034483,\n",
      "        0.37931034,  0.44827586,  0.51724138,  0.5862069 ,  0.65517241,\n",
      "        0.72413793,  0.79310345,  0.86206897,  0.93103448,  1.        ]))\n",
      "('Y', array([ 1.20281234,  1.3282478 ,  1.53536193,  1.6333463 ,  1.62222766,\n",
      "        1.64701461,  1.67407412,  1.70273137,  1.63925496,  1.84067307,\n",
      "        1.80348674,  2.05163567,  1.79392282,  2.06513408,  2.08307076,\n",
      "        1.9677662 ,  1.97079294,  2.07204538,  2.00005132,  2.18023538,\n",
      "        2.07320149,  2.29072979,  2.38298663,  2.35993616,  2.31121602,\n",
      "        2.32376293,  2.27312652,  2.41607307,  2.45328909,  2.42024799]))\n"
     ]
    },
    {
     "data": {
      "text/plain": [
       "<matplotlib.collections.PathCollection at 0x111cb4250>"
      ]
     },
     "execution_count": 3,
     "metadata": {},
     "output_type": "execute_result"
    },
    {
     "data": {
      "image/png": "[encoded data removed]",
      "text/plain": [
       "<matplotlib.figure.Figure at 0x111b83b90>"
      ]
     },
     "metadata": {},
     "output_type": "display_data"
    }
   ],
   "source": [
    "#print and plot the data\n",
    "print('X',X)\n",
    "print('Y',Y)\n",
    "\n",
    "plt.scatter(X, Y)"
   ]
  },
  {
   "cell_type": "code",
   "execution_count": 4,
   "metadata": {
    "collapsed": true
   },
   "outputs": [],
   "source": [
    "#define the cost/loss function and gradient descent function\n",
    "\n",
    "def cost_MSE(theta0,theta1,X,Y):\n",
    "    hypothesis = theta0 + theta1*X\n",
    "    m = len(X)\n",
    "    return (1/(2.0*m))*((np.square(hypothesis-Y)).sum(axis=0))\n",
    "\n",
    "\n",
    "def gradientDescent(theta0,theta1,X,Y,iterations,alpha):\n",
    "    count = 1\n",
    "    cost_log = np.array([])\n",
    "    m = len(X)\n",
    "    \n",
    "    while(count <= iterations):\n",
    "        hypothesis = theta0 + theta1*X\n",
    "        theta0 = theta0 - alpha*(1.0/m)*((hypothesis-Y)).sum(axis=0)\n",
    "        theta1 = theta1 - alpha*(1.0/m)*((hypothesis-Y)*X).sum(axis=0)\n",
    "        cost_log = np.append(cost_log,cost_MSE(theta0,theta1,X,Y))\n",
    "        count = count + 1\n",
    "        \n",
    "    plt.subplot(121)\n",
    "    plt.plot(np.linspace(1,iterations,iterations,endpoint=True),cost_log)\n",
    "    plt.title(\"Cost/Loss wrt iteration\")\n",
    "    plt.xlabel(\"Number of iteration\")\n",
    "    plt.ylabel(\"Cost/Loss\")\n",
    "    \n",
    "    \n",
    "    plt.subplot(122)\n",
    "    plt.scatter(X, Y)\n",
    "    plt.plot(X, theta0 + theta1*X)\n",
    "    plt.show()\n",
    "    \n",
    "    \n",
    "    return theta0,theta1"
   ]
  },
  {
   "cell_type": "code",
   "execution_count": 5,
   "metadata": {},
   "outputs": [
    {
     "data": {
      "image/png": "[encoded data removed]",
      "text/plain": [
       "<matplotlib.figure.Figure at 0x111c426d0>"
      ]
     },
     "metadata": {},
     "output_type": "display_data"
    },
    {
     "name": "stdout",
     "output_type": "stream",
     "text": [
      "('theta0:', 1.9692385075367922)\n",
      "('theta1:', 0.53027966768805734)\n"
     ]
    }
   ],
   "source": [
    "alpha = 0.3\n",
    "iterations = 20\n",
    "\n",
    "Thetas_Init = np.random.rand(2)\n",
    "\n",
    "plt.figure(figsize=(10, 4))\n",
    "\n",
    "theta0,theta1 = gradientDescent(Thetas_Init[0],Thetas_Init[1], X, Y,iterations,alpha)\n",
    "print('theta0:', theta0)\n",
    "print('theta1:', theta1)"
   ]
  },
  {
   "cell_type": "code",
   "execution_count": null,
   "metadata": {
    "collapsed": true
   },
   "outputs": [],
   "source": []
  }
 ],
 "metadata": {
  "kernelspec": {
   "display_name": "Python 2",
   "language": "python",
   "name": "python2"
  },
  "language_info": {
   "codemirror_mode": {
    "name": "ipython",
    "version": 2
   },
   "file_extension": ".py",
   "mimetype": "text/x-python",
   "name": "python",
   "nbconvert_exporter": "python",
   "pygments_lexer": "ipython2",
   "version": "2.7.13"
  }
 },
 "nbformat": 4,
 "nbformat_minor": 2
}
